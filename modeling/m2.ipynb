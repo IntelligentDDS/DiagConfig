{
 "cells": [
  {
   "cell_type": "code",
   "execution_count": 24,
   "metadata": {
    "pycharm": {
     "name": "#%%\n"
    }
   },
   "outputs": [],
   "source": [
    "from sklearn import tree\n",
    "from sklearn import metrics\n",
    "from sklearn import base\n",
    "from sklearn.ensemble import RandomForestRegressor\n",
    "import pandas as pd\n",
    "import os\n",
    "import numpy as np\n",
    "import random\n",
    "import pydotplus\n",
    "import joblib\n",
    "from SubjectSysInfo import SubjectSysInfo\n",
    "\n",
    "file_sep = os.sep\n",
    "feature_num = None\n",
    "feature_name = None\n",
    "\n",
    "sys_optionList = {}\n"
   ]
  },
  {
   "cell_type": "code",
   "execution_count": 25,
   "metadata": {
    "pycharm": {
     "name": "#%%\n"
    }
   },
   "outputs": [],
   "source": [
    "def getFilePath(sub_sys):\n",
    "\treturn '.' + file_sep + 'optionfeature' + file_sep + \\\n",
    "            'optioncollection' + file_sep + sub_sys + '.csv'\n"
   ]
  },
  {
   "cell_type": "code",
   "execution_count": 26,
   "metadata": {
    "pycharm": {
     "name": "#%%\n"
    }
   },
   "outputs": [],
   "source": [
    "def processOriginalDataset(dataset):\n",
    "\tcolumn_num = dataset.shape[1]\n",
    "\n",
    "\tnew_dataset = dataset.iloc[:, :column_num-1]\n",
    "\tnames = ['Io', 'NewArr', \"Thread\", \"Lock\"]\n",
    "\tfor name in names:\n",
    "\t\tnew_dataset[name] = dataset['directly' + name + 'Sink'] + \\\n",
    "\t\t\tdataset['if' + name + 'Sink'] + dataset['loop' + name + 'Sink']\n",
    "\tfor i in range(0, 4):\n",
    "\t\tfor j in range(i+1, 4):\n",
    "\t\t\tnamei = names[i]\n",
    "\t\t\tnamej = names[j]\n",
    "\t\t\tnew_dataset['sum_' + namei + \"_\" + namej] = new_dataset[namei] + new_dataset[namej]\n",
    "\tnew_dataset['sum_All'] = new_dataset['Io'] + new_dataset['NewArr'] + new_dataset['Thread'] + new_dataset['Lock']\n",
    "\n",
    "\tnew_dataset = pd.concat([new_dataset, dataset.iloc[:, column_num-1]], axis=1)\n",
    "\n",
    "\t# print(dataset)\n",
    "\treturn new_dataset\n"
   ]
  },
  {
   "cell_type": "code",
   "execution_count": 27,
   "metadata": {
    "pycharm": {
     "name": "#%%\n"
    }
   },
   "outputs": [],
   "source": [
    "def generateDataset(sub_sys_list):\n",
    "\tX_each_sys = {}\n",
    "\ty_each_sys = {}\n",
    "\tfor sub_sys in sub_sys_list:\n",
    "\t\tfile_path = getFilePath(sub_sys)\n",
    "\t\tdataset = pd.read_csv(file_path)\n",
    "\t\tsys_optionList[sub_sys] = dataset.iloc[:,0].values\n",
    "\t\tdataset = processOriginalDataset(dataset)\n",
    "\t\tglobal feature_num\n",
    "\t\tglobal feature_name\n",
    "\t\tif feature_num is None:\n",
    "\t\t\tprint('dataset.shape[1] = ', dataset.shape[1])\n",
    "\t\t\tfeature_num = dataset.shape[1]\n",
    "\t\t\tfeature_name = dataset.columns[1:feature_num-1]\n",
    "# \t\t\tprint(feature_name)\n",
    "\t\tX_each_sys[sub_sys] = dataset.iloc[:, 1:feature_num - 1].values\n",
    "\t\ty_each_sys[sub_sys] = dataset.iloc[:, feature_num - 1].values\n",
    "\tX = np.concatenate(\n",
    "            ([datasubset for datasubset in X_each_sys.values()]))\n",
    "\ty = np.concatenate(\n",
    "\t\t([datasubset for datasubset in y_each_sys.values()]))\n",
    "\treturn X, y"
   ]
  },
  {
   "cell_type": "code",
   "execution_count": 28,
   "metadata": {
    "pycharm": {
     "name": "#%%\n"
    }
   },
   "outputs": [],
   "source": [
    "def predit(regressor, X, y):\n",
    "\ttarget_predict = regressor.predict(X)\n",
    "\ttarget_predict_sign = np.sign(target_predict)\n",
    "\tprint('y = ', y)\n",
    "\tprint('p = ', target_predict_sign)\n",
    "\taccuracy_score = metrics.accuracy_score(y, target_predict_sign)\n",
    "\treturn accuracy_score"
   ]
  },
  {
   "cell_type": "code",
   "execution_count": 29,
   "metadata": {
    "pycharm": {
     "name": "#%%\n"
    }
   },
   "outputs": [
    {
     "name": "stdout",
     "output_type": "stream",
     "text": [
      "dataset.shape[1] =  85\n",
      "y =  [ 1  1  1  1  1  1 -1 -1 -1 -1  1 -1  1  1 -1  1  1  1  1 -1  1 -1  1]\n",
      "p =  [-1.  1.  1.  1.  1.  1.  1. -1. -1.  1.  1. -1.  1.  1. -1.  1.  1.  1.\n",
      "  1. -1.  1. -1.  1.]\n",
      "accuracy =  0.8695652173913043\n",
      "sys_list =  ['h2', 'sunflow', 'catena', 'prevayler', 'batik', 'kanzi', 'dconverter', 'cassandra']\n",
      "y =  [-1  1 -1 -1  1  1  1  1  1  1  1  1  1  1  1  1 -1 -1  1  1 -1  1  1 -1\n",
      " -1  1  1 -1 -1  1  1  1  1 -1  1  1 -1  1  1 -1 -1  1  1  1 -1  1  1  1\n",
      " -1 -1 -1  1  1 -1 -1  1  1 -1  1  1  1  1 -1  1 -1  1  1]\n",
      "p =  [ 1. -1. -1. -1.  1.  1. -1. -1.  1.  1.  1. -1. -1.  1. -1.  1. -1.  1.\n",
      " -1. -1.  1. -1. -1.  1. -1. -1.  1. -1.  1. -1.  1.  1.  1.  1.  1. -1.\n",
      " -1.  1.  1. -1.  1.  1.  1. -1. -1. -1. -1. -1. -1. -1.  1.  1.  1.  1.\n",
      "  1.  1.  1. -1.  1.  1.  1.  1. -1.  1.  1.  1. -1.]\n",
      "option list =  ['table_count_warn_threshold' 'counter_cache_keys_to_save'\n",
      " 'internode_application_send_queue_reserve_global_capacity_in_bytes'\n",
      " 'internode_tcp_connect_timeout_in_ms' 'commitlog_segment_size_in_mb'\n",
      " 'concurrent_reads' 'memtable_cleanup_threshold'\n",
      " 'max_hints_delivery_threads' 'hinted_handoff_enabled'\n",
      " 'range_request_timeout_in_ms' 'cas_contention_timeout_in_ms'\n",
      " 'slow_query_log_timeout_in_ms' 'max_value_size_in_mb'\n",
      " 'truncate_request_timeout_in_ms' 'dynamic_snitch_reset_interval_in_ms'\n",
      " 'file_cache_size_in_mb'\n",
      " 'internode_application_receive_queue_reserve_endpoint_capacity_in_bytes'\n",
      " 'report_unconfirmed_repaired_data_mismatches' 'inter_dc_tcp_nodelay'\n",
      " 'write_request_timeout_in_ms' 'enable_materialized_views'\n",
      " 'counter_cache_save_period' 'commit_failure_policy'\n",
      " 'client_encryption_options'\n",
      " 'internode_application_send_queue_reserve_endpoint_capacity_in_bytes'\n",
      " 'dynamic_snitch_update_interval_in_ms'\n",
      " 'counter_write_request_timeout_in_ms' 'concurrent_validations'\n",
      " 'keyspace_count_warn_threshold' 'hints_flush_period_in_ms'\n",
      " 'start_native_transport' 'role_manager' 'commitlog_compression'\n",
      " 'enable_sasi_indexes' 'endpoint_snitch' 'disk_failure_policy'\n",
      " 'concurrent_materialized_view_builders'\n",
      " 'concurrent_materialized_view_writes' 'cdc_enabled'\n",
      " 'tombstone_failure_threshold' 'commitlog_sync_period_in_ms' 'partitioner'\n",
      " 'key_cache_save_period' 'read_request_timeout_in_ms'\n",
      " 'internode_tcp_user_timeout_in_ms' 'memtable_heap_space_in_mb'\n",
      " 'key_cache_keys_to_save' 'hints_directory'\n",
      " 'internode_streaming_tcp_user_timeout_in_ms'\n",
      " 'memtable_offheap_space_in_mb'\n",
      " 'allocate_tokens_for_local_replication_factor' 'concurrent_writes'\n",
      " 'num_tokens' 'networking_cache_size_in_mb' 'concurrent_counter_writes'\n",
      " 'memtable_flush_writers' 'initial_token'\n",
      " 'internode_application_receive_queue_reserve_global_capacity_in_bytes'\n",
      " 'incremental_backups' 'transparent_data_encryption_options'\n",
      " 'allocate_tokens_for_keyspace' 'request_timeout_in_ms'\n",
      " 'periodic_commitlog_sync_lag_block_in_ms' 'max_hint_window_in_ms'\n",
      " 'enable_drop_compact_storage' 'row_cache_save_period'\n",
      " 'concurrent_compactors']\n",
      "sys =  ['cassandra']\n"
     ]
    }
   ],
   "source": [
    "sys_list = ['h2', 'sunflow', 'catena', 'prevayler', 'batik', 'kanzi', 'dconverter', 'cassandra']\n",
    "train_X, train_y = generateDataset(sys_list[:5])\n",
    "test_X, test_y = generateDataset(sys_list[5:7])\n",
    "loaded_regressor = joblib.load(\"RandomForest_compressed_86.joblib\")\n",
    "accuracy = predit(loaded_regressor, test_X, test_y)\n",
    "print('accuracy = ', accuracy)\n",
    "print('sys_list = ', sys_list)\n",
    "\n",
    "one_list = [sys_list[7]]\n",
    "test_X, test_y = generateDataset(one_list)\n",
    "accuracy = predit(loaded_regressor, test_X, test_y)\n",
    "print('option list = ', sys_optionList[sys_list[7]])\n",
    "# print('accuracy = ', accuracy)\n",
    "print('sys = ', one_list)\n"
   ]
  },
  {
   "cell_type": "code",
   "execution_count": null,
   "metadata": {},
   "outputs": [],
   "source": []
  },
  {
   "cell_type": "code",
   "execution_count": null,
   "metadata": {
    "pycharm": {
     "name": "#%%\n"
    }
   },
   "outputs": [],
   "source": []
  },
  {
   "cell_type": "code",
   "execution_count": null,
   "metadata": {
    "pycharm": {
     "name": "#%%\n"
    }
   },
   "outputs": [],
   "source": []
  },
  {
   "cell_type": "code",
   "execution_count": null,
   "metadata": {
    "pycharm": {
     "name": "#%%\n"
    }
   },
   "outputs": [],
   "source": []
  },
  {
   "cell_type": "code",
   "execution_count": null,
   "metadata": {},
   "outputs": [],
   "source": []
  },
  {
   "cell_type": "code",
   "execution_count": null,
   "metadata": {
    "pycharm": {
     "name": "#%%\n"
    }
   },
   "outputs": [],
   "source": []
  },
  {
   "cell_type": "code",
   "execution_count": null,
   "metadata": {
    "pycharm": {
     "name": "#%%\n"
    }
   },
   "outputs": [],
   "source": []
  },
  {
   "cell_type": "code",
   "execution_count": null,
   "metadata": {},
   "outputs": [],
   "source": []
  }
 ],
 "metadata": {
  "hide_input": false,
  "kernelspec": {
   "display_name": "Python 3.8.10 64-bit",
   "language": "python",
   "name": "python3"
  },
  "language_info": {
   "codemirror_mode": {
    "name": "ipython",
    "version": 3
   },
   "file_extension": ".py",
   "mimetype": "text/x-python",
   "name": "python",
   "nbconvert_exporter": "python",
   "pygments_lexer": "ipython3",
   "version": "3.8.10"
  },
  "vscode": {
   "interpreter": {
    "hash": "916dbcbb3f70747c44a77c7bcd40155683ae19c65e1c03b4aa3499c5328201f1"
   }
  }
 },
 "nbformat": 4,
 "nbformat_minor": 2
}
